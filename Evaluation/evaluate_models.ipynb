{
 "cells": [
  {
   "cell_type": "code",
   "execution_count": 74,
   "metadata": {
    "colab": {
     "base_uri": "https://localhost:8080/"
    },
    "id": "JmbhDHKbBr7U",
    "outputId": "e0523398-af1a-42bf-d539-724c8bb6d12e"
   },
   "outputs": [
    {
     "name": "stdout",
     "output_type": "stream",
     "text": [
      "Drive already mounted at /content/drive; to attempt to forcibly remount, call drive.mount(\"/content/drive\", force_remount=True).\n"
     ]
    }
   ],
   "source": [
    "from google.colab import drive\n",
    "drive.mount('/content/drive')"
   ]
  },
  {
   "cell_type": "code",
   "execution_count": 75,
   "metadata": {
    "id": "a3WzcxZtCFj8"
   },
   "outputs": [],
   "source": [
    "import pandas as pd\n",
    "import numpy as np\n",
    "import matplotlib.pyplot as plt\n",
    "from sklearn import preprocessing\n",
    "from sklearn.model_selection import train_test_split\n",
    "from sklearn.preprocessing import StandardScaler\n",
    "from sklearn.linear_model import LogisticRegression\n",
    "from sklearn.ensemble import RandomForestClassifier\n",
    "from sklearn.tree import DecisionTreeClassifier\n",
    "from sklearn.neighbors import KNeighborsClassifier\n",
    "from sklearn.naive_bayes import GaussianNB\n",
    "from sklearn.neural_network import MLPClassifier\n",
    "from sklearn.ensemble import StackingClassifier\n",
    "from sklearn.metrics import confusion_matrix\n",
    "from sklearn.metrics import accuracy_score\n",
    "from sklearn.metrics import classification_report\n",
    "from sklearn.model_selection import GridSearchCV\n",
    "from imblearn.over_sampling import SMOTE\n",
    "from sklearn.svm import SVC\n",
    "from gensim.models.doc2vec import Doc2Vec, TaggedDocument\n",
    "import gensim\n",
    "import nltk\n",
    "from nltk.tokenize import word_tokenize\n",
    "from nltk.corpus import stopwords\n",
    "from nltk.stem import WordNetLemmatizer\n",
    "from string import punctuation"
   ]
  },
  {
   "cell_type": "code",
   "execution_count": 76,
   "metadata": {
    "colab": {
     "base_uri": "https://localhost:8080/"
    },
    "id": "oPEeVBzPCQaj",
    "outputId": "d78ae14c-ed9b-471c-a5ab-8c5c5edd6869"
   },
   "outputs": [
    {
     "name": "stderr",
     "output_type": "stream",
     "text": [
      "[nltk_data] Downloading package punkt to /root/nltk_data...\n",
      "[nltk_data]   Package punkt is already up-to-date!\n",
      "[nltk_data] Downloading package stopwords to /root/nltk_data...\n",
      "[nltk_data]   Package stopwords is already up-to-date!\n",
      "[nltk_data] Downloading package wordnet to /root/nltk_data...\n",
      "[nltk_data]   Package wordnet is already up-to-date!\n",
      "[nltk_data] Downloading package omw-1.4 to /root/nltk_data...\n",
      "[nltk_data]   Package omw-1.4 is already up-to-date!\n"
     ]
    },
    {
     "data": {
      "text/plain": [
       "True"
      ]
     },
     "execution_count": 76,
     "metadata": {},
     "output_type": "execute_result"
    }
   ],
   "source": [
    "nltk.download('punkt')\n",
    "nltk.download('stopwords')\n",
    "nltk.download('wordnet')\n",
    "nltk.download('omw-1.4')"
   ]
  },
  {
   "cell_type": "code",
   "execution_count": 77,
   "metadata": {
    "id": "PGlXb_iSCdcB"
   },
   "outputs": [],
   "source": [
    "df = pd.read_csv(\"/content/drive/MyDrive/Food_ingredient_dataset/df_filtered.csv\")"
   ]
  },
  {
   "cell_type": "markdown",
   "metadata": {
    "id": "Q0PasICOCqjo"
   },
   "source": [
    "### In this dataset (df_filtered.csv), we have extracted the ingredient names from the columns before using an ingredient parser library (pying). We have also removed the rows where nan values were present and have removed those rows as well where hindi letters were present in TranslatedIngredients column"
   ]
  },
  {
   "cell_type": "code",
   "execution_count": 78,
   "metadata": {
    "colab": {
     "base_uri": "https://localhost:8080/",
     "height": 367
    },
    "id": "ku9mDOjECrZW",
    "outputId": "14e45228-d048-4de8-d5ab-42279b5aac26"
   },
   "outputs": [
    {
     "data": {
      "text/html": [
       "\n",
       "  <div id=\"df-ee4cad40-1fc8-4cf5-b739-afbafc16d2a2\">\n",
       "    <div class=\"colab-df-container\">\n",
       "      <div>\n",
       "<style scoped>\n",
       "    .dataframe tbody tr th:only-of-type {\n",
       "        vertical-align: middle;\n",
       "    }\n",
       "\n",
       "    .dataframe tbody tr th {\n",
       "        vertical-align: top;\n",
       "    }\n",
       "\n",
       "    .dataframe thead th {\n",
       "        text-align: right;\n",
       "    }\n",
       "</style>\n",
       "<table border=\"1\" class=\"dataframe\">\n",
       "  <thead>\n",
       "    <tr style=\"text-align: right;\">\n",
       "      <th></th>\n",
       "      <th>Unnamed: 0</th>\n",
       "      <th>Srno</th>\n",
       "      <th>RecipeName</th>\n",
       "      <th>TranslatedRecipeName</th>\n",
       "      <th>Ingredients</th>\n",
       "      <th>TranslatedIngredients</th>\n",
       "      <th>PrepTimeInMins</th>\n",
       "      <th>CookTimeInMins</th>\n",
       "      <th>TotalTimeInMins</th>\n",
       "      <th>Servings</th>\n",
       "      <th>Cuisine</th>\n",
       "      <th>Course</th>\n",
       "      <th>Diet</th>\n",
       "      <th>Instructions</th>\n",
       "      <th>TranslatedInstructions</th>\n",
       "      <th>URL</th>\n",
       "    </tr>\n",
       "  </thead>\n",
       "  <tbody>\n",
       "    <tr>\n",
       "      <th>0</th>\n",
       "      <td>0</td>\n",
       "      <td>1</td>\n",
       "      <td>Masala Karela Recipe</td>\n",
       "      <td>Masala Karela Recipe</td>\n",
       "      <td>6 Karela (Bitter Gourd/ Pavakkai) - deseeded,S...</td>\n",
       "      <td>['gourd', 'salt', 'onion', 'flour', 'turmeric ...</td>\n",
       "      <td>15</td>\n",
       "      <td>30</td>\n",
       "      <td>45</td>\n",
       "      <td>6</td>\n",
       "      <td>Indian</td>\n",
       "      <td>Side Dish</td>\n",
       "      <td>Diabetic Friendly</td>\n",
       "      <td>To begin making the Masala Karela Recipe,de-se...</td>\n",
       "      <td>To begin making the Masala Karela Recipe,de-se...</td>\n",
       "      <td>https://www.archanaskitchen.com/masala-karela-...</td>\n",
       "    </tr>\n",
       "    <tr>\n",
       "      <th>1</th>\n",
       "      <td>1</td>\n",
       "      <td>2</td>\n",
       "      <td>टमाटर पुलियोगरे रेसिपी - Spicy Tomato Rice (Re...</td>\n",
       "      <td>Spicy Tomato Rice (Recipe)</td>\n",
       "      <td>2-1/2 कप चावल - पका ले,3 टमाटर,3 छोटा चमच्च बी...</td>\n",
       "      <td>['rice cooked', 'tomatoes', 'belle', 'salt', '...</td>\n",
       "      <td>5</td>\n",
       "      <td>10</td>\n",
       "      <td>15</td>\n",
       "      <td>3</td>\n",
       "      <td>South Indian Recipes</td>\n",
       "      <td>Main Course</td>\n",
       "      <td>Vegetarian</td>\n",
       "      <td>टमाटर पुलियोगरे बनाने के लिए सबसे पहले टमाटर क...</td>\n",
       "      <td>To make tomato puliogere, first cut the tomato...</td>\n",
       "      <td>http://www.archanaskitchen.com/spicy-tomato-ri...</td>\n",
       "    </tr>\n",
       "  </tbody>\n",
       "</table>\n",
       "</div>\n",
       "      <button class=\"colab-df-convert\" onclick=\"convertToInteractive('df-ee4cad40-1fc8-4cf5-b739-afbafc16d2a2')\"\n",
       "              title=\"Convert this dataframe to an interactive table.\"\n",
       "              style=\"display:none;\">\n",
       "        \n",
       "  <svg xmlns=\"http://www.w3.org/2000/svg\" height=\"24px\"viewBox=\"0 0 24 24\"\n",
       "       width=\"24px\">\n",
       "    <path d=\"M0 0h24v24H0V0z\" fill=\"none\"/>\n",
       "    <path d=\"M18.56 5.44l.94 2.06.94-2.06 2.06-.94-2.06-.94-.94-2.06-.94 2.06-2.06.94zm-11 1L8.5 8.5l.94-2.06 2.06-.94-2.06-.94L8.5 2.5l-.94 2.06-2.06.94zm10 10l.94 2.06.94-2.06 2.06-.94-2.06-.94-.94-2.06-.94 2.06-2.06.94z\"/><path d=\"M17.41 7.96l-1.37-1.37c-.4-.4-.92-.59-1.43-.59-.52 0-1.04.2-1.43.59L10.3 9.45l-7.72 7.72c-.78.78-.78 2.05 0 2.83L4 21.41c.39.39.9.59 1.41.59.51 0 1.02-.2 1.41-.59l7.78-7.78 2.81-2.81c.8-.78.8-2.07 0-2.86zM5.41 20L4 18.59l7.72-7.72 1.47 1.35L5.41 20z\"/>\n",
       "  </svg>\n",
       "      </button>\n",
       "      \n",
       "  <style>\n",
       "    .colab-df-container {\n",
       "      display:flex;\n",
       "      flex-wrap:wrap;\n",
       "      gap: 12px;\n",
       "    }\n",
       "\n",
       "    .colab-df-convert {\n",
       "      background-color: #E8F0FE;\n",
       "      border: none;\n",
       "      border-radius: 50%;\n",
       "      cursor: pointer;\n",
       "      display: none;\n",
       "      fill: #1967D2;\n",
       "      height: 32px;\n",
       "      padding: 0 0 0 0;\n",
       "      width: 32px;\n",
       "    }\n",
       "\n",
       "    .colab-df-convert:hover {\n",
       "      background-color: #E2EBFA;\n",
       "      box-shadow: 0px 1px 2px rgba(60, 64, 67, 0.3), 0px 1px 3px 1px rgba(60, 64, 67, 0.15);\n",
       "      fill: #174EA6;\n",
       "    }\n",
       "\n",
       "    [theme=dark] .colab-df-convert {\n",
       "      background-color: #3B4455;\n",
       "      fill: #D2E3FC;\n",
       "    }\n",
       "\n",
       "    [theme=dark] .colab-df-convert:hover {\n",
       "      background-color: #434B5C;\n",
       "      box-shadow: 0px 1px 3px 1px rgba(0, 0, 0, 0.15);\n",
       "      filter: drop-shadow(0px 1px 2px rgba(0, 0, 0, 0.3));\n",
       "      fill: #FFFFFF;\n",
       "    }\n",
       "  </style>\n",
       "\n",
       "      <script>\n",
       "        const buttonEl =\n",
       "          document.querySelector('#df-ee4cad40-1fc8-4cf5-b739-afbafc16d2a2 button.colab-df-convert');\n",
       "        buttonEl.style.display =\n",
       "          google.colab.kernel.accessAllowed ? 'block' : 'none';\n",
       "\n",
       "        async function convertToInteractive(key) {\n",
       "          const element = document.querySelector('#df-ee4cad40-1fc8-4cf5-b739-afbafc16d2a2');\n",
       "          const dataTable =\n",
       "            await google.colab.kernel.invokeFunction('convertToInteractive',\n",
       "                                                     [key], {});\n",
       "          if (!dataTable) return;\n",
       "\n",
       "          const docLinkHtml = 'Like what you see? Visit the ' +\n",
       "            '<a target=\"_blank\" href=https://colab.research.google.com/notebooks/data_table.ipynb>data table notebook</a>'\n",
       "            + ' to learn more about interactive tables.';\n",
       "          element.innerHTML = '';\n",
       "          dataTable['output_type'] = 'display_data';\n",
       "          await google.colab.output.renderOutput(dataTable, element);\n",
       "          const docLink = document.createElement('div');\n",
       "          docLink.innerHTML = docLinkHtml;\n",
       "          element.appendChild(docLink);\n",
       "        }\n",
       "      </script>\n",
       "    </div>\n",
       "  </div>\n",
       "  "
      ],
      "text/plain": [
       "   Unnamed: 0  Srno                                         RecipeName  \\\n",
       "0           0     1                               Masala Karela Recipe   \n",
       "1           1     2  टमाटर पुलियोगरे रेसिपी - Spicy Tomato Rice (Re...   \n",
       "\n",
       "         TranslatedRecipeName  \\\n",
       "0        Masala Karela Recipe   \n",
       "1  Spicy Tomato Rice (Recipe)   \n",
       "\n",
       "                                         Ingredients  \\\n",
       "0  6 Karela (Bitter Gourd/ Pavakkai) - deseeded,S...   \n",
       "1  2-1/2 कप चावल - पका ले,3 टमाटर,3 छोटा चमच्च बी...   \n",
       "\n",
       "                               TranslatedIngredients  PrepTimeInMins  \\\n",
       "0  ['gourd', 'salt', 'onion', 'flour', 'turmeric ...              15   \n",
       "1  ['rice cooked', 'tomatoes', 'belle', 'salt', '...               5   \n",
       "\n",
       "   CookTimeInMins  TotalTimeInMins  Servings               Cuisine  \\\n",
       "0              30               45         6                Indian   \n",
       "1              10               15         3  South Indian Recipes   \n",
       "\n",
       "        Course               Diet  \\\n",
       "0    Side Dish  Diabetic Friendly   \n",
       "1  Main Course         Vegetarian   \n",
       "\n",
       "                                        Instructions  \\\n",
       "0  To begin making the Masala Karela Recipe,de-se...   \n",
       "1  टमाटर पुलियोगरे बनाने के लिए सबसे पहले टमाटर क...   \n",
       "\n",
       "                              TranslatedInstructions  \\\n",
       "0  To begin making the Masala Karela Recipe,de-se...   \n",
       "1  To make tomato puliogere, first cut the tomato...   \n",
       "\n",
       "                                                 URL  \n",
       "0  https://www.archanaskitchen.com/masala-karela-...  \n",
       "1  http://www.archanaskitchen.com/spicy-tomato-ri...  "
      ]
     },
     "execution_count": 78,
     "metadata": {},
     "output_type": "execute_result"
    }
   ],
   "source": [
    "df.head(2)"
   ]
  },
  {
   "cell_type": "markdown",
   "metadata": {
    "id": "fF97tSX3CyiV"
   },
   "source": [
    "### Since this task is complex, for simplicity, we are going to group output column (PrepTimeInMins) into 3 classes :- 'low', 'medium', 'long'. Here 'low' is preptime less than 30 mins, 'medium' is preptime in between 30 and 60 mins (inclusively) and 'long' is preptime greater than 60 mins."
   ]
  },
  {
   "cell_type": "code",
   "execution_count": 79,
   "metadata": {
    "colab": {
     "base_uri": "https://localhost:8080/"
    },
    "id": "WJRIlIrcCvHK",
    "outputId": "b4f0738d-ba10-498f-aaba-7c8a7b86a16d"
   },
   "outputs": [
    {
     "name": "stderr",
     "output_type": "stream",
     "text": [
      "<ipython-input-79-6f01f19a4602>:3: SettingWithCopyWarning: \n",
      "A value is trying to be set on a copy of a slice from a DataFrame\n",
      "\n",
      "See the caveats in the documentation: https://pandas.pydata.org/pandas-docs/stable/user_guide/indexing.html#returning-a-view-versus-a-copy\n",
      "  df['PrepTimeInMins'][i] = 'low'\n",
      "/usr/local/lib/python3.8/dist-packages/pandas/core/indexing.py:1732: SettingWithCopyWarning: \n",
      "A value is trying to be set on a copy of a slice from a DataFrame\n",
      "\n",
      "See the caveats in the documentation: https://pandas.pydata.org/pandas-docs/stable/user_guide/indexing.html#returning-a-view-versus-a-copy\n",
      "  self._setitem_single_block(indexer, value, name)\n"
     ]
    }
   ],
   "source": [
    "for i in range(len(df)):\n",
    "  if int(df['PrepTimeInMins'][i]) < 30:\n",
    "    df['PrepTimeInMins'][i] = 'low'\n",
    "  elif 30<=int(df['PrepTimeInMins'][i])<=60:\n",
    "    df['PrepTimeInMins'][i] = 'medium'\n",
    "  else:\n",
    "    df['PrepTimeInMins'][i] = 'long'"
   ]
  },
  {
   "cell_type": "markdown",
   "metadata": {
    "id": "x6CKFhXsC3Ar"
   },
   "source": [
    "### Below, we are going to count the frequency of each ingredient to check their relevancy in a recipe"
   ]
  },
  {
   "cell_type": "code",
   "execution_count": 80,
   "metadata": {
    "id": "TrmDzPRkC1l8"
   },
   "outputs": [],
   "source": [
    "# frequency of ingredients dictionary\n",
    "d = {}\n",
    "for i in range(len(df)):\n",
    "  l = eval(df['TranslatedIngredients'][i])\n",
    "  for ingred in l:\n",
    "    if ingred in d:\n",
    "      d[ingred] += 1\n",
    "    else:\n",
    "      d[ingred] = 1"
   ]
  },
  {
   "cell_type": "code",
   "execution_count": 81,
   "metadata": {
    "colab": {
     "base_uri": "https://localhost:8080/"
    },
    "id": "KJ9ZB13YC8no",
    "outputId": "8d276e12-48f6-4b4c-bd0e-a5d8215beb2c"
   },
   "outputs": [
    {
     "name": "stdout",
     "output_type": "stream",
     "text": [
      "3570\n"
     ]
    }
   ],
   "source": [
    "print(len(d))"
   ]
  },
  {
   "cell_type": "markdown",
   "metadata": {
    "id": "RKgEMRmLC77U"
   },
   "source": [
    "### So, the total number of ingredients in our dataset is 3750"
   ]
  },
  {
   "cell_type": "code",
   "execution_count": 82,
   "metadata": {
    "id": "XVqk1q0pC-7g"
   },
   "outputs": [],
   "source": [
    "arr = sorted(d.items(), key = lambda elem: (elem[1]))[::-1]"
   ]
  },
  {
   "cell_type": "markdown",
   "metadata": {
    "id": "Z7SCPEMqDTeZ"
   },
   "source": [
    "### Below we have listed the 50 most frequent ingredients along with their frequencies"
   ]
  },
  {
   "cell_type": "code",
   "execution_count": 83,
   "metadata": {
    "colab": {
     "base_uri": "https://localhost:8080/"
    },
    "id": "DcgRSVvbDUTq",
    "outputId": "f1c7360e-2642-49d6-ba72-b7176c27e3bd"
   },
   "outputs": [
    {
     "data": {
      "text/plain": [
       "[('salt', 5407),\n",
       " ('sunflower oil', 2449),\n",
       " ('garlic', 1971),\n",
       " ('onion', 1941),\n",
       " ('red chilli powder', 1879),\n",
       " ('turmeric powder', 1779),\n",
       " ('cumin seeds', 1525),\n",
       " ('ginger', 1471),\n",
       " ('green chillies', 1384),\n",
       " ('curry leaves', 1244),\n",
       " ('coriander', 1220),\n",
       " ('sugar', 1213),\n",
       " ('water', 1194),\n",
       " ('mustard seeds', 1098),\n",
       " ('ghee', 972),\n",
       " ('coriander powder', 899),\n",
       " ('black pepper powder', 855),\n",
       " ('garam masala powder', 836),\n",
       " ('lemon juice', 836),\n",
       " ('coconut', 795),\n",
       " ('cumin powder', 756),\n",
       " ('red chillies', 736),\n",
       " ('extra virgin olive oil', 682),\n",
       " ('', 622),\n",
       " ('milk', 616),\n",
       " ('tomato', 605),\n",
       " ('onions', 528),\n",
       " ('tomatoes', 527),\n",
       " ('butter', 513),\n",
       " ('cardamom', 497),\n",
       " ('turmeric powder haldi', 491),\n",
       " ('asafoetida hing', 490),\n",
       " ('black peppercorns', 482),\n",
       " ('all purpose flour', 476),\n",
       " ('curd dahi yogurt', 461),\n",
       " ('cloves', 440),\n",
       " ('cinnamon stick', 433),\n",
       " ('coriander dhania', 406),\n",
       " ('asafoetida', 401),\n",
       " ('white urad', 385),\n",
       " ('flour', 381),\n",
       " ('mint leaves', 371),\n",
       " ('jaggery', 366),\n",
       " ('bay leaf', 364),\n",
       " ('oil', 363),\n",
       " ('red chilli', 361),\n",
       " ('carrot', 358),\n",
       " ('eggs', 334),\n",
       " ('green chilli', 333),\n",
       " ('cardamom powder', 330)]"
      ]
     },
     "execution_count": 83,
     "metadata": {},
     "output_type": "execute_result"
    }
   ],
   "source": [
    "arr[:50]"
   ]
  },
  {
   "cell_type": "markdown",
   "metadata": {
    "id": "7gIKZkJTDYaF"
   },
   "source": [
    "### Now, we will show a bar graph for the top 500 most frequent ingredients"
   ]
  },
  {
   "cell_type": "code",
   "execution_count": 84,
   "metadata": {
    "colab": {
     "base_uri": "https://localhost:8080/",
     "height": 593
    },
    "id": "gzDIQlb-DY8k",
    "outputId": "a0ed6ff9-69f8-41d5-ed5f-de0b532e969d"
   },
   "outputs": [
    {
     "data": {
      "image/png": "[encoded data removed]",
      "text/plain": [
       "<Figure size 1080x720 with 1 Axes>"
      ]
     },
     "metadata": {
      "needs_background": "light"
     },
     "output_type": "display_data"
    }
   ],
   "source": [
    "x_axis = []\n",
    "y_axis = []\n",
    "for i in range(500):\n",
    "  x_axis.append(arr[i][0])\n",
    "  y_axis.append(arr[i][1])\n",
    "\n",
    "fig = plt.figure(figsize = (15, 10))\n",
    "plt.bar(x_axis, y_axis)\n",
    "plt.xlabel('ingredients')\n",
    "plt.ylabel('ingredient frequencies')\n",
    "plt.xticks([])\n",
    "plt.yticks([tick for tick in range(200,6000,400)])\n",
    "plt.show()"
   ]
  },
  {
   "cell_type": "markdown",
   "metadata": {
    "id": "vZbfYyFiDeMM"
   },
   "source": [
    "### The above bar graph only has the top 500 ingredients. From the ferequency bar graph, it is evident that there are a lot of ingredients that are barely the part of recipes (appear lot less frequently in them). We may exclude them from our dataset as they are less important and not very much reflective of the data. (Including them may increase more noise and decrease accuracy, as well as increase the time taken to train model as a training data with more than 3000 columns takes quite a lot time to train). So, for this task, we will currently choose the top 300 frequent ingredient from each of the low,medium and long classes. Doing this will give us a fair chance to predict each of the 3 classes equally"
   ]
  },
  {
   "cell_type": "code",
   "execution_count": 85,
   "metadata": {
    "id": "Ofisds8xDlAU"
   },
   "outputs": [],
   "source": [
    "d1 = {}\n",
    "d2 = {}\n",
    "d3 = {}\n",
    "for i in range(len(df)):\n",
    "  l = eval(df['TranslatedIngredients'][i])\n",
    "  for ingred in l:\n",
    "    if df['PrepTimeInMins'][i] == 'low':\n",
    "      if ingred in d1:\n",
    "        d1[ingred] += 1\n",
    "      else:\n",
    "        d1[ingred] = 1\n",
    "    elif df['PrepTimeInMins'][i] == 'medium':\n",
    "      if ingred in d2:\n",
    "        d2[ingred] += 1\n",
    "      else:\n",
    "        d2[ingred] = 1\n",
    "    else:\n",
    "      if ingred in d3:\n",
    "        d3[ingred] += 1\n",
    "      else:\n",
    "        d3[ingred] = 1"
   ]
  },
  {
   "cell_type": "code",
   "execution_count": 86,
   "metadata": {
    "id": "ap8izf9NDxhW"
   },
   "outputs": [],
   "source": [
    "arr1 = sorted(d1.items(), key = lambda elem: (elem[1]))[::-1]\n",
    "arr2 = sorted(d2.items(), key = lambda elem: (elem[1]))[::-1]\n",
    "arr3 = sorted(d3.items(), key = lambda elem: (elem[1]))[::-1]"
   ]
  },
  {
   "cell_type": "code",
   "execution_count": 87,
   "metadata": {
    "id": "mLv4opRXDzRW"
   },
   "outputs": [],
   "source": [
    "s = set([arr1[i][0] for i in range(300)]).union(set([arr2[i][0] for i in range(300)])).union(set([arr3[i][0] for i in range(300)]))\n",
    "all_ingreds = list(s)"
   ]
  },
  {
   "cell_type": "markdown",
   "metadata": {
    "id": "tb9l0TlMYcAL"
   },
   "source": [
    "### Below, we are going to create one-hot encoded vectors for the ingredients that we selected on the basis of frequencies"
   ]
  },
  {
   "cell_type": "code",
   "execution_count": 88,
   "metadata": {
    "id": "2cSW35j1D1E6"
   },
   "outputs": [],
   "source": [
    "temp_df = pd.DataFrame(columns = all_ingreds)\n",
    "for i in range(len(df)):\n",
    "  l = eval(df['TranslatedIngredients'][i])\n",
    "  temp_dic = {}\n",
    "  for ingred in l:\n",
    "    if ingred in temp_dic:\n",
    "      temp_dic[ingred] += 1\n",
    "    else:\n",
    "      temp_dic[ingred] = 1\n",
    "  temp_l = []\n",
    "  for ingred in all_ingreds:\n",
    "    if ingred not in temp_dic:\n",
    "      temp_l.append(0)\n",
    "    else:\n",
    "      temp_l.append(temp_dic[ingred])\n",
    "  temp_df = temp_df.append(pd.DataFrame([temp_l], columns = all_ingreds), ignore_index=True)"
   ]
  },
  {
   "cell_type": "code",
   "execution_count": 89,
   "metadata": {
    "id": "blOyBYLWD27k"
   },
   "outputs": [],
   "source": [
    "df2 = pd.concat([df, temp_df], axis=1, join='inner')\n",
    "df2.drop(columns = ['Unnamed: 0', 'Srno', 'RecipeName', 'Ingredients', 'Cuisine', 'Course', 'Diet', 'Instructions', 'URL'], axis=1, inplace=True)"
   ]
  },
  {
   "cell_type": "code",
   "execution_count": 90,
   "metadata": {
    "id": "iBDmDhGJFx1u"
   },
   "outputs": [],
   "source": [
    "x1 = df2.drop(columns = ['TranslatedRecipeName', 'TranslatedIngredients', 'PrepTimeInMins', 'CookTimeInMins', 'TotalTimeInMins', 'TranslatedInstructions']).to_numpy()\n",
    "sc = StandardScaler()\n",
    "x1 = sc.fit_transform(x1)"
   ]
  },
  {
   "cell_type": "markdown",
   "metadata": {
    "id": "MhyLdLvCGma-"
   },
   "source": [
    "### Now, we have to add the instructions in features. For that, we will tokenise the instructions(including removing stopwords and lemmatizing) with 'nltk' and create doc2vec vectors for instruction corresponding to each recipe. Doing this will factor in for the important phrases, processes and forms of the ingredient that are important to preparation time of recipe"
   ]
  },
  {
   "cell_type": "code",
   "execution_count": 91,
   "metadata": {
    "id": "5d5ur0BVF34L"
   },
   "outputs": [],
   "source": [
    "stop_words = set(stopwords.words(\"english\"))\n",
    "lemmatizer = WordNetLemmatizer()"
   ]
  },
  {
   "cell_type": "markdown",
   "metadata": {
    "id": "ZUFwDJPYYsZU"
   },
   "source": [
    "### Below we are defining some functions to generate tokens from the instructions in a proper manner. First we are removing punctuations, then remove the stopwords and then finall lemmatizing them to group similar words as one."
   ]
  },
  {
   "cell_type": "code",
   "execution_count": 92,
   "metadata": {
    "id": "v1BFRcaMHNt_"
   },
   "outputs": [],
   "source": [
    "def get_lower_case(text):\n",
    "\treturn text.lower()\n",
    "\n",
    "# this replaces the punctuations in a text with a space\n",
    "def get_non_punctuated_words(text):\n",
    "\toutput = \"\"\n",
    "\tfor ch in text:\n",
    "\t\tif ch in punctuation:\n",
    "\t\t\toutput += ' '\n",
    "\t\telse:\n",
    "\t\t\toutput += ch\n",
    "\treturn output\n",
    "\n",
    "# this generates a tokenized list from a text\n",
    "def get_tokenized_list(text):\n",
    "\treturn word_tokenize(text)\n",
    "\n",
    "# this removes the stopwords present in the list arr\n",
    "def get_non_stopword_list(arr):\n",
    "\t# arr is tokenized already\n",
    "\tl = []\n",
    "\tfor word in arr:\n",
    "\t\tif word not in stop_words:\n",
    "\t\t\tl.append(word)\n",
    "\treturn l\n",
    "\n",
    "# this lemmatizes the words present in the list arr\n",
    "def get_lemmatized_wordlist(arr):\n",
    "\t# arr is tokenized already\n",
    "\tl = []\n",
    "\tfor word in arr:\n",
    "\t\tl.append(lemmatizer.lemmatize(word))\n",
    "\treturn l\n",
    "\n",
    "def get_final_tokens(text):\n",
    "  text = get_lower_case(text)\n",
    "  text = get_non_punctuated_words(text)\n",
    "  l = get_tokenized_list(text)\n",
    "  l = get_non_stopword_list(l)\n",
    "  l = get_lemmatized_wordlist(l)\n",
    "  return l"
   ]
  },
  {
   "cell_type": "code",
   "execution_count": 93,
   "metadata": {
    "id": "VjEc5tcQHUlB"
   },
   "outputs": [],
   "source": [
    "tagged_data = []\n",
    "for i, _d in enumerate(df['TranslatedInstructions']):\n",
    "  tag = [str(i)]\n",
    "  text = get_lower_case(_d)\n",
    "  text = get_non_punctuated_words(text)\n",
    "  l = get_tokenized_list(text)\n",
    "  l = get_non_stopword_list(l)\n",
    "  l = get_lemmatized_wordlist(l)\n",
    "  tagged_data.append(TaggedDocument(words = l, tags = tag))"
   ]
  },
  {
   "cell_type": "markdown",
   "metadata": {
    "id": "IRfqrGT4Y-qU"
   },
   "source": [
    "### Below is the process to convert the tokenized instructions into embedded vectors using doc2vec approach"
   ]
  },
  {
   "cell_type": "code",
   "execution_count": 94,
   "metadata": {
    "id": "Vr1Bb1xqHY3E"
   },
   "outputs": [],
   "source": [
    "data_for_training = tagged_data\n",
    "model = gensim.models.doc2vec.Doc2Vec(vector_size=100, min_count=2, epochs=30)\n",
    "model.build_vocab(data_for_training)\n",
    "model.train(data_for_training, total_examples=model.corpus_count, epochs=model.epochs)"
   ]
  },
  {
   "cell_type": "code",
   "execution_count": 95,
   "metadata": {
    "id": "5Re7HhthHdLa"
   },
   "outputs": [],
   "source": [
    "column_list = ['vector'+str(i) for i in range(100)]\n",
    "temp_df = pd.DataFrame(columns = column_list)\n",
    "for i in range(len(df)):\n",
    "  l = get_final_tokens(df['TranslatedInstructions'][i])\n",
    "  temp_l = model.infer_vector(l)\n",
    "  temp_df = temp_df.append(pd.DataFrame([temp_l], columns = column_list), ignore_index = True)"
   ]
  },
  {
   "cell_type": "markdown",
   "metadata": {
    "id": "ICRkOYxuZGRw"
   },
   "source": [
    "### Now after getting all the required features, we will start creating the models and see how much accuracy we can get"
   ]
  },
  {
   "cell_type": "code",
   "execution_count": 96,
   "metadata": {
    "id": "GSyrpjSRJItj"
   },
   "outputs": [],
   "source": [
    "x2 = temp_df.to_numpy()\n",
    "x = np.concatenate((x1,x2),axis=1)\n",
    "y = df2['PrepTimeInMins'].to_numpy()"
   ]
  },
  {
   "cell_type": "code",
   "execution_count": 97,
   "metadata": {
    "id": "Jnq-e5iqKRlD"
   },
   "outputs": [],
   "source": [
    "x_train, x_test, y_train, y_test = train_test_split(x, y, test_size = 0.25)"
   ]
  },
  {
   "cell_type": "code",
   "execution_count": 98,
   "metadata": {
    "id": "vdgp2KeBK0o9"
   },
   "outputs": [],
   "source": [
    "# a function to evaluate model\n",
    "def evaluate_model(clf, x_train, x_test, y_train, y_test):\n",
    "  clf.fit(x_train, y_train)\n",
    "  y_pred = clf.predict(x_test)\n",
    "  cm = confusion_matrix(y_test, y_pred)\n",
    "  print(\"Confusion matrix:- \",cm)\n",
    "  print(\"Accuracy score: \", accuracy_score(y_test, y_pred))\n",
    "  print(\"Class-wise accuracies:- \",cm.diagonal()/cm.sum(axis=1))"
   ]
  },
  {
   "cell_type": "code",
   "execution_count": 99,
   "metadata": {
    "colab": {
     "base_uri": "https://localhost:8080/"
    },
    "id": "ZNUG_4fMK8ft",
    "outputId": "163e5eae-5d99-49fd-ef9d-c8a632e0ded8"
   },
   "outputs": [
    {
     "name": "stdout",
     "output_type": "stream",
     "text": [
      "Confusion matrix:-  [[  30   52    8]\n",
      " [  41 1225   63]\n",
      " [  11  114   26]]\n",
      "Accuracy score:  0.8159235668789809\n",
      "Class-wise accuracies:-  [0.33333333 0.92174567 0.17218543]\n"
     ]
    }
   ],
   "source": [
    "clf = LogisticRegression(max_iter = 10000, C=10)\n",
    "evaluate_model(clf, x_train, x_test, y_train, y_test)"
   ]
  },
  {
   "cell_type": "code",
   "execution_count": 100,
   "metadata": {
    "colab": {
     "base_uri": "https://localhost:8080/"
    },
    "id": "mWxYtvmoLNGi",
    "outputId": "93402133-3006-4e93-fccf-f03d4f45a50a"
   },
   "outputs": [
    {
     "name": "stdout",
     "output_type": "stream",
     "text": [
      "Confusion matrix:-  [[   0   90    0]\n",
      " [   0 1329    0]\n",
      " [   0  151    0]]\n",
      "Accuracy score:  0.8464968152866242\n",
      "Class-wise accuracies:-  [0. 1. 0.]\n"
     ]
    }
   ],
   "source": [
    "clf = RandomForestClassifier(n_estimators = 100, max_depth = 10)\n",
    "evaluate_model(clf, x_train, x_test, y_train, y_test)"
   ]
  },
  {
   "cell_type": "code",
   "execution_count": 101,
   "metadata": {
    "colab": {
     "base_uri": "https://localhost:8080/"
    },
    "id": "NYz75fKVLfBp",
    "outputId": "b0997599-09c2-4627-9ab9-4bb9e932088f"
   },
   "outputs": [
    {
     "name": "stdout",
     "output_type": "stream",
     "text": [
      "Confusion matrix:-  [[  18   70    2]\n",
      " [   9 1308   12]\n",
      " [   2  141    8]]\n",
      "Accuracy score:  0.8496815286624204\n",
      "Class-wise accuracies:-  [0.2        0.98419865 0.05298013]\n"
     ]
    }
   ],
   "source": [
    "clf = SVC(C = 10)\n",
    "evaluate_model(clf, x_train, x_test, y_train, y_test)"
   ]
  },
  {
   "cell_type": "code",
   "execution_count": 102,
   "metadata": {
    "colab": {
     "base_uri": "https://localhost:8080/"
    },
    "id": "_XTms5ZSLnbO",
    "outputId": "6709edf9-7034-4fd9-d410-70e727c92d4d"
   },
   "outputs": [
    {
     "name": "stdout",
     "output_type": "stream",
     "text": [
      "Confusion matrix:-  [[  19   63    8]\n",
      " [   7 1293   29]\n",
      " [   2  132   17]]\n",
      "Accuracy score:  0.8464968152866242\n",
      "Class-wise accuracies:-  [0.21111111 0.97291196 0.11258278]\n"
     ]
    }
   ],
   "source": [
    "clf3 = MLPClassifier(max_iter = 2000, activation = 'tanh', alpha = 5)\n",
    "evaluate_model(clf3, x_train, x_test, y_train, y_test)"
   ]
  },
  {
   "cell_type": "code",
   "execution_count": 103,
   "metadata": {
    "colab": {
     "base_uri": "https://localhost:8080/"
    },
    "id": "c-PKUAogMtRl",
    "outputId": "d52dcd08-9285-481d-bfe3-c034411dd740"
   },
   "outputs": [
    {
     "name": "stdout",
     "output_type": "stream",
     "text": [
      "Confusion matrix:-  [[  11   79    0]\n",
      " [  10 1312    7]\n",
      " [   2  147    2]]\n",
      "Accuracy score:  0.8439490445859873\n",
      "Class-wise accuracies:-  [0.12222222 0.98720843 0.01324503]\n"
     ]
    }
   ],
   "source": [
    "clf5 = KNeighborsClassifier()\n",
    "evaluate_model(clf5, x_train, x_test, y_train, y_test)"
   ]
  },
  {
   "cell_type": "markdown",
   "metadata": {
    "id": "XhUcE0J2M12q"
   },
   "source": [
    "### We see that although the overall accuracy is high, however the class-wise accuracies are poor for 'medium' and 'long' classes. A possible reasoning for this is that the data is imbalanced. Let us check if the data points of the 3 classes are imbalanced or not.\n",
    "\n",
    "### We can check that by see the frequencies of the 3 classes."
   ]
  },
  {
   "cell_type": "code",
   "execution_count": 104,
   "metadata": {
    "colab": {
     "base_uri": "https://localhost:8080/"
    },
    "id": "v9vVoztXNNju",
    "outputId": "297fa6d7-8af7-447a-a749-b72fc3e47703"
   },
   "outputs": [
    {
     "name": "stdout",
     "output_type": "stream",
     "text": [
      "frequency of low:-  5320\n",
      "frequency of medium:-  627\n",
      "frequency of long:-  331\n"
     ]
    }
   ],
   "source": [
    "print(\"frequency of low:- \",(y=='low').sum())\n",
    "print(\"frequency of medium:- \",(y=='medium').sum())\n",
    "print(\"frequency of long:- \",(y=='long').sum())"
   ]
  },
  {
   "cell_type": "markdown",
   "metadata": {
    "id": "vV-HM5I3NhOH"
   },
   "source": [
    "### Now we know that the data is imbalanced. So, we are going to use strategies to handle imbalanced data. Here, we are going to oversample the whole data training data. "
   ]
  },
  {
   "cell_type": "code",
   "execution_count": 105,
   "metadata": {
    "id": "Z8GKTj_HNrZ4"
   },
   "outputs": [],
   "source": [
    "sm = SMOTE()\n",
    "x_train_res, y_train_res = sm.fit_resample(x_train, y_train)"
   ]
  },
  {
   "cell_type": "code",
   "execution_count": 106,
   "metadata": {
    "colab": {
     "base_uri": "https://localhost:8080/"
    },
    "id": "keQghoxpNwD0",
    "outputId": "5a593ac1-bc13-4062-eb59-01a3ac4539fd"
   },
   "outputs": [
    {
     "name": "stdout",
     "output_type": "stream",
     "text": [
      "Confusion matrix:-  [[ 44  29  17]\n",
      " [114 962 253]\n",
      " [ 20  68  63]]\n",
      "Accuracy score:  0.6808917197452229\n",
      "Class-wise accuracies:-  [0.48888889 0.72385252 0.41721854]\n"
     ]
    }
   ],
   "source": [
    "clf = LogisticRegression(max_iter = 10000, C=10)\n",
    "evaluate_model(clf, x_train_res, x_test, y_train_res, y_test)"
   ]
  },
  {
   "cell_type": "code",
   "execution_count": 107,
   "metadata": {
    "colab": {
     "base_uri": "https://localhost:8080/"
    },
    "id": "CUS3w1LFOrJo",
    "outputId": "1893b0b2-4243-41c6-a091-00d47b4009b4"
   },
   "outputs": [
    {
     "name": "stdout",
     "output_type": "stream",
     "text": [
      "Confusion matrix:-  [[  14   74    2]\n",
      " [  11 1262   56]\n",
      " [   4  133   14]]\n",
      "Accuracy score:  0.821656050955414\n",
      "Class-wise accuracies:-  [0.15555556 0.94958616 0.09271523]\n"
     ]
    }
   ],
   "source": [
    "clf = RandomForestClassifier(n_estimators = 100, max_depth = 10)\n",
    "evaluate_model(clf, x_train_res, x_test, y_train_res, y_test)"
   ]
  },
  {
   "cell_type": "code",
   "execution_count": 108,
   "metadata": {
    "colab": {
     "base_uri": "https://localhost:8080/"
    },
    "id": "mYCRTvckPX4-",
    "outputId": "77c3a174-0111-4421-ca81-efe53ca666ee"
   },
   "outputs": [
    {
     "name": "stdout",
     "output_type": "stream",
     "text": [
      "Confusion matrix:-  [[  45   34   11]\n",
      " [ 104 1027  198]\n",
      " [  25   76   50]]\n",
      "Accuracy score:  0.7146496815286624\n",
      "Class-wise accuracies:-  [0.5        0.77276147 0.33112583]\n"
     ]
    }
   ],
   "source": [
    "clf3 = MLPClassifier(max_iter = 2000, activation = 'tanh', alpha = 5)\n",
    "evaluate_model(clf3, x_train_res, x_test, y_train_res, y_test)"
   ]
  },
  {
   "cell_type": "code",
   "execution_count": 109,
   "metadata": {
    "colab": {
     "base_uri": "https://localhost:8080/"
    },
    "id": "D3K_jnFRRv6U",
    "outputId": "fbaf7683-8f93-4f17-e4d1-95d36fe8be35"
   },
   "outputs": [
    {
     "name": "stdout",
     "output_type": "stream",
     "text": [
      "Confusion matrix:-  [[ 46  20  24]\n",
      " [230 689 410]\n",
      " [ 31  54  66]]\n",
      "Accuracy score:  0.5101910828025478\n",
      "Class-wise accuracies:-  [0.51111111 0.51843491 0.43708609]\n"
     ]
    }
   ],
   "source": [
    "clf5 = KNeighborsClassifier()\n",
    "evaluate_model(clf5, x_train_res, x_test, y_train_res, y_test)"
   ]
  },
  {
   "cell_type": "code",
   "execution_count": 110,
   "metadata": {
    "colab": {
     "base_uri": "https://localhost:8080/"
    },
    "id": "DObRdv50WfIw",
    "outputId": "bc49b2e4-3a6c-4f2e-87d1-47ef0937e9c3"
   },
   "outputs": [
    {
     "name": "stdout",
     "output_type": "stream",
     "text": [
      "Confusion matrix:-  [[  22   66    2]\n",
      " [  13 1283   33]\n",
      " [   2  139   10]]\n",
      "Accuracy score:  0.8375796178343949\n",
      "Class-wise accuracies:-  [0.24444444 0.96538751 0.06622517]\n"
     ]
    }
   ],
   "source": [
    "clf = SVC(C = 10)\n",
    "evaluate_model(clf, x_train_res, x_test, y_train_res, y_test)"
   ]
  },
  {
   "cell_type": "markdown",
   "metadata": {
    "id": "U2LZ7PhLWJod"
   },
   "source": [
    "### Finally, we see that after oversampling the data points, the class-wise accuracy distribution of LogisticRegression, MLPClassifier and KNeighborsClassifier has improved. Among these 3, Logistic regression and K-neighbors have better class-wise accuracies. The overall accuracies of these 3 models are 71% for MLPClassifier, 68% for Logistic regression and 51% for KNeighborsClassifier. \n",
    "### With this, we can conclude this attempt to predict the preparation time of a recipe. Although we got descent accuracies, however, it is far from a standard model to be used and needs lot of improvement. \n",
    "### This task was difficult as both, the ingredients and instructions were given in paragraph forms and needed to be converted into vectors. One special part that needs improvement is converting instructions into numerical vectors. Right now we used doc2vec based model but there can be better models suited for this purpose. For further research, deep learning based models can also be applied for prediction which in general are showed to get better results."
   ]
  }
 ],
 "metadata": {
  "colab": {
   "provenance": []
  },
  "kernelspec": {
   "display_name": "Python 3 (ipykernel)",
   "language": "python",
   "name": "python3"
  },
  "language_info": {
   "codemirror_mode": {
    "name": "ipython",
    "version": 3
   },
   "file_extension": ".py",
   "mimetype": "text/x-python",
   "name": "python",
   "nbconvert_exporter": "python",
   "pygments_lexer": "ipython3",
   "version": "3.9.13"
  }
 },
 "nbformat": 4,
 "nbformat_minor": 1
}
